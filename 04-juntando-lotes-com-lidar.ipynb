{
 "cells": [
  {
   "cell_type": "code",
   "execution_count": 2,
   "metadata": {},
   "outputs": [],
   "source": [
    "import geopandas as gpd\n",
    "import pandas as pd"
   ]
  },
  {
   "cell_type": "code",
   "execution_count": 3,
   "metadata": {},
   "outputs": [],
   "source": [
    "df_lotes_lidar = pd.read_pickle('resultados/lotes_lidar.pkl')"
   ]
  },
  {
   "cell_type": "code",
   "execution_count": 4,
   "metadata": {},
   "outputs": [],
   "source": [
    "gdf_lotes = gpd.read_file('resultados/lotes.gpkg')"
   ]
  },
  {
   "cell_type": "code",
   "execution_count": 5,
   "metadata": {},
   "outputs": [
    {
     "data": {
      "text/plain": [
       "(1636200, 51)"
      ]
     },
     "execution_count": 5,
     "metadata": {},
     "output_type": "execute_result"
    }
   ],
   "source": [
    "gdf_lotes.shape"
   ]
  },
  {
   "cell_type": "code",
   "execution_count": 6,
   "metadata": {},
   "outputs": [
    {
     "data": {
      "text/plain": [
       "(1635669, 5)"
      ]
     },
     "execution_count": 6,
     "metadata": {},
     "output_type": "execute_result"
    }
   ],
   "source": [
    "df_lotes_lidar.shape"
   ]
  },
  {
   "cell_type": "code",
   "execution_count": 8,
   "metadata": {},
   "outputs": [
    {
     "data": {
      "text/html": [
       "<div>\n",
       "<style scoped>\n",
       "    .dataframe tbody tr th:only-of-type {\n",
       "        vertical-align: middle;\n",
       "    }\n",
       "\n",
       "    .dataframe tbody tr th {\n",
       "        vertical-align: top;\n",
       "    }\n",
       "\n",
       "    .dataframe thead th {\n",
       "        text-align: right;\n",
       "    }\n",
       "</style>\n",
       "<table border=\"1\" class=\"dataframe\">\n",
       "  <thead>\n",
       "    <tr style=\"text-align: right;\">\n",
       "      <th></th>\n",
       "      <th>BHM_min</th>\n",
       "      <th>BHM_max</th>\n",
       "      <th>BHM_count</th>\n",
       "      <th>BHM_sum</th>\n",
       "    </tr>\n",
       "    <tr>\n",
       "      <th>sqlc</th>\n",
       "      <th></th>\n",
       "      <th></th>\n",
       "      <th></th>\n",
       "      <th></th>\n",
       "    </tr>\n",
       "  </thead>\n",
       "  <tbody>\n",
       "    <tr>\n",
       "      <th>001003000001</th>\n",
       "      <td>4.779490</td>\n",
       "      <td>33.788105</td>\n",
       "      <td>193</td>\n",
       "      <td>4402.474609</td>\n",
       "    </tr>\n",
       "    <tr>\n",
       "      <th>001003000002</th>\n",
       "      <td>7.573451</td>\n",
       "      <td>13.836112</td>\n",
       "      <td>239</td>\n",
       "      <td>2308.712891</td>\n",
       "    </tr>\n",
       "    <tr>\n",
       "      <th>001003000003</th>\n",
       "      <td>6.993511</td>\n",
       "      <td>13.339279</td>\n",
       "      <td>362</td>\n",
       "      <td>4452.778320</td>\n",
       "    </tr>\n",
       "    <tr>\n",
       "      <th>001003000004</th>\n",
       "      <td>3.282642</td>\n",
       "      <td>23.854979</td>\n",
       "      <td>336</td>\n",
       "      <td>5354.563477</td>\n",
       "    </tr>\n",
       "    <tr>\n",
       "      <th>001003000100</th>\n",
       "      <td>7.541953</td>\n",
       "      <td>10.729340</td>\n",
       "      <td>130</td>\n",
       "      <td>1212.777100</td>\n",
       "    </tr>\n",
       "    <tr>\n",
       "      <th>...</th>\n",
       "      <td>...</td>\n",
       "      <td>...</td>\n",
       "      <td>...</td>\n",
       "      <td>...</td>\n",
       "    </tr>\n",
       "    <tr>\n",
       "      <th>310117029200</th>\n",
       "      <td>2.187330</td>\n",
       "      <td>9.136294</td>\n",
       "      <td>152</td>\n",
       "      <td>966.906799</td>\n",
       "    </tr>\n",
       "    <tr>\n",
       "      <th>310117029300</th>\n",
       "      <td>2.082060</td>\n",
       "      <td>9.005632</td>\n",
       "      <td>110</td>\n",
       "      <td>728.602722</td>\n",
       "    </tr>\n",
       "    <tr>\n",
       "      <th>310117029400</th>\n",
       "      <td>1.805220</td>\n",
       "      <td>9.139772</td>\n",
       "      <td>134</td>\n",
       "      <td>892.824951</td>\n",
       "    </tr>\n",
       "    <tr>\n",
       "      <th>310118000001</th>\n",
       "      <td>1.999551</td>\n",
       "      <td>19.506062</td>\n",
       "      <td>7665</td>\n",
       "      <td>108217.023438</td>\n",
       "    </tr>\n",
       "    <tr>\n",
       "      <th>310119000100</th>\n",
       "      <td>2.196750</td>\n",
       "      <td>10.531774</td>\n",
       "      <td>95</td>\n",
       "      <td>514.913803</td>\n",
       "    </tr>\n",
       "  </tbody>\n",
       "</table>\n",
       "<p>1635669 rows × 4 columns</p>\n",
       "</div>"
      ],
      "text/plain": [
       "               BHM_min    BHM_max  BHM_count        BHM_sum\n",
       "sqlc                                                       \n",
       "001003000001  4.779490  33.788105        193    4402.474609\n",
       "001003000002  7.573451  13.836112        239    2308.712891\n",
       "001003000003  6.993511  13.339279        362    4452.778320\n",
       "001003000004  3.282642  23.854979        336    5354.563477\n",
       "001003000100  7.541953  10.729340        130    1212.777100\n",
       "...                ...        ...        ...            ...\n",
       "310117029200  2.187330   9.136294        152     966.906799\n",
       "310117029300  2.082060   9.005632        110     728.602722\n",
       "310117029400  1.805220   9.139772        134     892.824951\n",
       "310118000001  1.999551  19.506062       7665  108217.023438\n",
       "310119000100  2.196750  10.531774         95     514.913803\n",
       "\n",
       "[1635669 rows x 4 columns]"
      ]
     },
     "execution_count": 8,
     "metadata": {},
     "output_type": "execute_result"
    }
   ],
   "source": [
    "df_lotes_lidar.set_index('sqlc')"
   ]
  },
  {
   "cell_type": "code",
   "execution_count": 13,
   "metadata": {},
   "outputs": [],
   "source": [
    "gdf_lotes_lidar = gdf_lotes.merge(df_lotes_lidar, on='sqlc')"
   ]
  },
  {
   "cell_type": "code",
   "execution_count": 14,
   "metadata": {},
   "outputs": [],
   "source": [
    "gdf_lotes_lidar.to_pickle('resultados/gdf_lotes_lidar.pkl')"
   ]
  },
  {
   "cell_type": "code",
   "execution_count": null,
   "metadata": {},
   "outputs": [],
   "source": [
    "#juntar ambos"
   ]
  }
 ],
 "metadata": {
  "kernelspec": {
   "display_name": "pdal",
   "language": "python",
   "name": "python3"
  },
  "language_info": {
   "codemirror_mode": {
    "name": "ipython",
    "version": 3
   },
   "file_extension": ".py",
   "mimetype": "text/x-python",
   "name": "python",
   "nbconvert_exporter": "python",
   "pygments_lexer": "ipython3",
   "version": "3.12.2"
  }
 },
 "nbformat": 4,
 "nbformat_minor": 2
}
