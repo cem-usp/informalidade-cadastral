{
 "cells": [
  {
   "cell_type": "code",
   "execution_count": 9,
   "metadata": {},
   "outputs": [],
   "source": [
    "import pandas as pd\n",
    "import geopandas as gpd"
   ]
  },
  {
   "cell_type": "code",
   "execution_count": 10,
   "metadata": {},
   "outputs": [],
   "source": [
    "ano = 2020"
   ]
  },
  {
   "cell_type": "code",
   "execution_count": 11,
   "metadata": {},
   "outputs": [],
   "source": [
    "gdf_distritos = gpd.read_file('../dash-iptu/data/SIRGAS_GPKG_distrito.gpkg')"
   ]
  },
  {
   "cell_type": "code",
   "execution_count": 4,
   "metadata": {},
   "outputs": [
    {
     "name": "stdout",
     "output_type": "stream",
     "text": [
      "PIRITUBA\n",
      "SAO DOMINGOS\n",
      "JARAGUA\n",
      "BRASILANDIA\n",
      "FREGUESIA DO O\n",
      "CASA VERDE\n",
      "CACHOEIRINHA\n",
      "LIMAO\n",
      "VILA GUILHERME\n",
      "VILA MARIA\n",
      "VILA MEDEIROS\n",
      "ARTUR ALVIM\n",
      "PENHA\n",
      "CANGAIBA\n",
      "VILA MATILDE\n",
      "PONTE RASA\n",
      "ERMELINO MATARAZZO\n",
      "VILA CURUCA\n",
      "ITAIM PAULISTA\n",
      "GUAIANASES\n",
      "LAJEADO\n",
      "BARRA FUNDA\n",
      "PERDIZES\n",
      "VILA LEOPOLDINA\n",
      "JAGUARA\n",
      "LAPA\n",
      "JAGUARE\n",
      "REPUBLICA\n",
      "SANTA CECILIA\n",
      "SE\n",
      "BELA VISTA\n",
      "BOM RETIRO\n",
      "CAMBUCI\n",
      "CONSOLACAO\n",
      "LIBERDADE\n",
      "MOOCA\n",
      "PARI\n",
      "TATUAPE\n",
      "AGUA RASA\n",
      "BELEM\n",
      "BRAS\n",
      "CARRAO\n",
      "VILA FORMOSA\n",
      "ARICANDUVA\n",
      "SAO MATEUS\n",
      "SAO RAFAEL\n",
      "IGUATEMI\n",
      "VILA PRUDENTE\n",
      "SAO LUCAS\n",
      "MORUMBI\n",
      "RIO PEQUENO\n",
      "VILA SONIA\n",
      "BUTANTA\n",
      "RAPOSO TAVARES\n",
      "PINHEIROS\n",
      "ALTO DE PINHEIROS\n",
      "ITAIM BIBI\n",
      "JARDIM PAULISTA\n",
      "CAMPO LIMPO\n",
      "CAPAO REDONDO\n",
      "VILA ANDRADE\n",
      "JARDIM ANGELA\n",
      "JARDIM SAO LUIS\n",
      "SOCORRO\n",
      "CIDADE DUTRA\n",
      "GRAJAU\n",
      "MARSILAC\n",
      "PARELHEIROS\n",
      "CIDADE TIRADENTES\n",
      "PERUS\n",
      "ANHANGUERA\n",
      "SAPOPEMBA\n",
      "SACOMA\n",
      "CURSINO\n",
      "IPIRANGA\n",
      "MOEMA\n",
      "SAUDE\n",
      "VILA MARIANA\n",
      "PEDREIRA\n",
      "CIDADE ADEMAR\n",
      "JACANA\n",
      "TREMEMBE\n",
      "MANDAQUI\n",
      "SANTANA\n",
      "TUCURUVI\n",
      "SANTO AMARO\n",
      "CAMPO GRANDE\n",
      "CAMPO BELO\n",
      "JABAQUARA\n",
      "VILA JACUI\n",
      "SAO MIGUEL\n",
      "JARDIM HELENA\n",
      "CIDADE LIDER\n",
      "PARQUE DO CARMO\n",
      "JOSE BONIFACIO\n",
      "ITAQUERA\n"
     ]
    }
   ],
   "source": [
    "gdfs = []\n",
    "for distrito in gdf_distritos.iterrows():\n",
    "    print(distrito[1].ds_nome)\n",
    "    gdf_lotes = gpd.read_file(f\"../dash-iptu/iptu_por_lotes/{ano}/IPTU-SP-todos-atributos-por-lotes-{distrito[1].ds_codigo}-{distrito[1].ds_nome.lower().replace(' ', '-')}.gpkg\")\n",
    "    gdfs.append(gdf_lotes)\n",
    "    # break"
   ]
  },
  {
   "cell_type": "code",
   "execution_count": 5,
   "metadata": {},
   "outputs": [
    {
     "name": "stderr",
     "output_type": "stream",
     "text": [
      "/var/folders/4v/rx_d3gzj4991_pw5_skhl0980000gn/T/ipykernel_51501/2070525878.py:1: FutureWarning: The behavior of DataFrame concatenation with empty or all-NA entries is deprecated. In a future version, this will no longer exclude empty or all-NA columns when determining the result dtypes. To retain the old behavior, exclude the relevant entries before the concat operation.\n",
      "  df_lotes = pd.concat(gdfs)\n"
     ]
    }
   ],
   "source": [
    "df_lotes = pd.concat(gdfs)"
   ]
  },
  {
   "cell_type": "code",
   "execution_count": 6,
   "metadata": {},
   "outputs": [],
   "source": [
    "df_lotes.to_file(\"resultados/lotes.gpkg\", driver='GPKG')"
   ]
  },
  {
   "cell_type": "code",
   "execution_count": 7,
   "metadata": {},
   "outputs": [],
   "source": [
    "# df_lotes.to_feather('resultados/lotes.feather') "
   ]
  },
  {
   "cell_type": "code",
   "execution_count": 8,
   "metadata": {},
   "outputs": [],
   "source": [
    "# df_lotes.to_parquet('resultados/lotes.parquet')"
   ]
  },
  {
   "cell_type": "code",
   "execution_count": null,
   "metadata": {},
   "outputs": [],
   "source": []
  }
 ],
 "metadata": {
  "kernelspec": {
   "display_name": "pdal",
   "language": "python",
   "name": "python3"
  },
  "language_info": {
   "codemirror_mode": {
    "name": "ipython",
    "version": 3
   },
   "file_extension": ".py",
   "mimetype": "text/x-python",
   "name": "python",
   "nbconvert_exporter": "python",
   "pygments_lexer": "ipython3",
   "version": "3.12.2"
  }
 },
 "nbformat": 4,
 "nbformat_minor": 2
}
